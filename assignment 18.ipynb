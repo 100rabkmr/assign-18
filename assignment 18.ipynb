{
 "cells": [
  {
   "cell_type": "markdown",
   "id": "4fd12cbe",
   "metadata": {},
   "source": [
    "# asignment 18"
   ]
  },
  {
   "cell_type": "raw",
   "id": "93ad5cde",
   "metadata": {},
   "source": [
    "# 1. Create a zoo.py file first. Define the hours() function, which prints the string 'Open 9-5 daily'.\n",
    "# Then, use the interactive interpreter to import the zoo module and call its hours() function.\n",
    "\n",
    "\n",
    "\n",
    "from google.colab import files\n",
    "uploaded = files.upload()\n",
    "     "
   ]
  },
  {
   "cell_type": "markdown",
   "id": "ca5aac1c",
   "metadata": {},
   "source": [
    "import zoo\n",
    "from importlib import reload\n",
    "reload(zoo)\n",
    "\n",
    "zoo.hours()"
   ]
  },
  {
   "cell_type": "markdown",
   "id": "f3534e2b",
   "metadata": {},
   "source": [
    "Q. In the interactive interpreter, import the zoo module as menagerie and call its hours() function.\n",
    "\n",
    "\n",
    "import zoo as menagerie\n",
    "menagerie.hours()"
   ]
  },
  {
   "cell_type": "markdown",
   "id": "aa87ab6d",
   "metadata": {},
   "source": [
    "Q. Using the interpreter, explicitly import and call the hours() function from zoo.\n",
    "\n",
    "\n",
    "from zoo import hours\n",
    "hours()\n",
    "     \n"
   ]
  },
  {
   "cell_type": "markdown",
   "id": "e7f0c89f",
   "metadata": {},
   "source": [
    " Q. Import the hours() function as info and call it.\n",
    "\n",
    "\n",
    "from zoo import hours as info\n",
    "info()\n",
    "     "
   ]
  },
  {
   "cell_type": "markdown",
   "id": "9ef8cfb4",
   "metadata": {},
   "source": [
    "Q. Create a plain dictionary with the key-value pairs 'a': 1, 'b': 2, 'c': 3, and print it out.\n",
    "\n",
    "\n",
    "plain = {'a': 1, 'b': 2, 'c': 3}\n",
    "plain"
   ]
  },
  {
   "cell_type": "markdown",
   "id": "7a13954a",
   "metadata": {},
   "source": [
    "Q. Make an OrderedDict called fancy from the same pairs listed in 5 and print it. Did it print in the same order as plain?\n",
    "\n",
    "\n",
    "#Yes\n",
    "from collections import OrderedDict\n",
    "fancy = OrderedDict([('a', 1), ('b', 2), ('c', 3)])\n",
    "fancy\n",
    "     "
   ]
  },
  {
   "cell_type": "markdown",
   "id": "7f2dee27",
   "metadata": {},
   "source": [
    "Q. Make a defaultdict called dict_of_lists and pass it the argument list. Make the list dict_of_lists['a'] and append the value 'something for a' to it in one assignment. Print dict_of_lists['a']\n",
    "\n",
    "\n",
    "from collections import defaultdict\n",
    "dict_of_lists = defaultdict(list)\n",
    "dict_of_lists['a'].append('something for a')\n",
    "dict_of_lists['a']\n",
    "     "
   ]
  }
 ],
 "metadata": {
  "kernelspec": {
   "display_name": "Python 3 (ipykernel)",
   "language": "python",
   "name": "python3"
  },
  "language_info": {
   "codemirror_mode": {
    "name": "ipython",
    "version": 3
   },
   "file_extension": ".py",
   "mimetype": "text/x-python",
   "name": "python",
   "nbconvert_exporter": "python",
   "pygments_lexer": "ipython3",
   "version": "3.11.7"
  }
 },
 "nbformat": 4,
 "nbformat_minor": 5
}
